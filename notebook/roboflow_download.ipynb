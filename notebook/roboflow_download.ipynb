{
 "cells": [
  {
   "cell_type": "code",
   "execution_count": 1,
   "metadata": {},
   "outputs": [],
   "source": [
    "import os\n",
    "from roboflow import Roboflow"
   ]
  },
  {
   "cell_type": "code",
   "execution_count": 2,
   "metadata": {},
   "outputs": [
    {
     "data": {
      "text/plain": [
       "'c:\\\\Users\\\\FaizalE\\\\Documents\\\\GitHub\\\\yolov7\\\\notebook'"
      ]
     },
     "execution_count": 2,
     "metadata": {},
     "output_type": "execute_result"
    }
   ],
   "source": [
    "os.getcwd()"
   ]
  },
  {
   "cell_type": "code",
   "execution_count": 5,
   "metadata": {},
   "outputs": [
    {
     "name": "stdout",
     "output_type": "stream",
     "text": [
      "[WinError 3] The system cannot find the path specified: '../data/roboflow'\n",
      "c:\\Users\\FaizalE\\Documents\\GitHub\\yolov7\\data\\roboflow\n",
      "[WinError 2] The system cannot find the file specified: '/car-body-parts'\n",
      "c:\\Users\\FaizalE\\Documents\\GitHub\\yolov7\\data\\roboflow\n"
     ]
    }
   ],
   "source": [
    "%cd ../data/roboflow\n",
    "os.makedirs(\"car-body-parts\")\n",
    "%cd car-body-parts"
   ]
  },
  {
   "cell_type": "code",
   "execution_count": 7,
   "metadata": {},
   "outputs": [
    {
     "name": "stdout",
     "output_type": "stream",
     "text": [
      "loading Roboflow workspace...\n",
      "loading Roboflow project...\n",
      "Exporting format yolov7pytorch in progress : 85.0%\n",
      "Version export complete for yolov7pytorch format\n",
      "Downloading Dataset Version Zip in car-body-parts-5 to yolov7pytorch: 100% [31590948 / 31590948] bytes\n"
     ]
    },
    {
     "name": "stderr",
     "output_type": "stream",
     "text": [
      "Extracting Dataset Version Zip to car-body-parts-5 in yolov7pytorch:: 100%|██████████| 920/920 [00:02<00:00, 395.87it/s]\n"
     ]
    }
   ],
   "source": [
    "\n",
    "rf = Roboflow(api_key=\"P5E6JhfkeiA1nAdZAWnB\")\n",
    "project = rf.workspace(\"sinfo\").project(\"car-body-parts-p025a\")\n",
    "dataset = project.version(5).download(\"yolov7\")"
   ]
  }
 ],
 "metadata": {
  "kernelspec": {
   "display_name": "yolov7seg",
   "language": "python",
   "name": "python3"
  },
  "language_info": {
   "codemirror_mode": {
    "name": "ipython",
    "version": 3
   },
   "file_extension": ".py",
   "mimetype": "text/x-python",
   "name": "python",
   "nbconvert_exporter": "python",
   "pygments_lexer": "ipython3",
   "version": "3.9.0"
  },
  "orig_nbformat": 4
 },
 "nbformat": 4,
 "nbformat_minor": 2
}
